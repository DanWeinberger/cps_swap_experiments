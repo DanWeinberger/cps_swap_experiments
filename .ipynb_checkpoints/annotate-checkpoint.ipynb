{
 "cells": [
  {
   "cell_type": "code",
   "execution_count": null,
   "id": "82737e32-ae03-4e5d-b98d-d1a97bfb092f",
   "metadata": {},
   "outputs": [],
   "source": [
    "to install run in command line py -m pip install biopython pandas"
   ]
  },
  {
   "cell_type": "code",
   "execution_count": null,
   "id": "6b80ace5-53e4-4686-8b36-84efb6e91dcf",
   "metadata": {},
   "outputs": [],
   "source": [
    "import pandas as pd\n",
    "from Bio import Entrez, SeqIO\n",
    "\n",
    "# Set your email (required by NCBI)\n",
    "Entrez.email = \"your.email@example.com\"\n",
    "\n",
    "# Function to fetch gene product label\n",
    "def fetch_gene_product(accession, start, end):\n",
    "    try:\n",
    "        # Fetch the sequence data from NCBI\n",
    "        handle = Entrez.efetch(db=\"nuccore\", id=accession, seq_start=start, seq_stop=end, rettype=\"gb\", retmode=\"text\")\n",
    "        record = SeqIO.read(handle, \"genbank\")\n",
    "        handle.close()\n",
    "\n",
    "        # Search for the CDS feature that overlaps with the position\n",
    "        for feature in record.features:\n",
    "            if feature.type == \"CDS\" and feature.location.start <= start <= feature.location.end:\n",
    "                return feature.qualifiers.get('product', ['Unknown'])[0]\n",
    "\n",
    "    except Exception as e:\n",
    "        return f\"Error: {str(e)}\"\n",
    "    \n",
    "    return \"No matching CDS\"\n",
    "\n",
    "# Read the CSV file\n",
    "input_file = \"./Data/Alignment-HitTable AY insertions.csv\"  # Replace with your input file name\n",
    "output_file = \"output.csv\"  # Name of the output file\n",
    "df = pd.read_csv(input_file)\n",
    "\n",
    "# Create a new column for gene product labels\n",
    "df['gene_product'] = df.apply(lambda row: fetch_gene_product(row['accession'], row['start'], row['end']), axis=1)\n",
    "\n",
    "# Save the annotated DataFrame to a new CSV file\n",
    "df.to_csv(output_file, index=False)\n",
    "print(f\"Gene product labels saved to {output_file}\")"
   ]
  },
  {
   "cell_type": "code",
   "execution_count": null,
   "id": "95e4cae3-f778-40a5-bd8d-e4933aa6c565",
   "metadata": {},
   "outputs": [],
   "source": []
  }
 ],
 "metadata": {
  "kernelspec": {
   "display_name": "Python 3 (ipykernel)",
   "language": "python",
   "name": "python3"
  },
  "language_info": {
   "codemirror_mode": {
    "name": "ipython",
    "version": 3
   },
   "file_extension": ".py",
   "mimetype": "text/x-python",
   "name": "python",
   "nbconvert_exporter": "python",
   "pygments_lexer": "ipython3",
   "version": "3.12.5"
  }
 },
 "nbformat": 4,
 "nbformat_minor": 5
}
