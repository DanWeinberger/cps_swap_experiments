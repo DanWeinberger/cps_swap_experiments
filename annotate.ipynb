{
 "cells": [
  {
   "cell_type": "markdown",
   "id": "9ed86bcb-2f03-4c10-8b11-2c901a360a80",
   "metadata": {},
   "source": [
    "to install run in command line py -m pip install biopython pandas"
   ]
  },
  {
   "cell_type": "code",
   "execution_count": 1,
   "id": "6b80ace5-53e4-4686-8b36-84efb6e91dcf",
   "metadata": {},
   "outputs": [],
   "source": [
    "import pandas as pd\n",
    "from Bio import Entrez, SeqIO\n",
    "\n",
    "# Set your email (required by NCBI)\n",
    "Entrez.email = \"daniel.weinberger@yale.edu\""
   ]
  },
  {
   "cell_type": "code",
   "execution_count": 9,
   "id": "962db453-0e32-4786-84c9-ab5a01887417",
   "metadata": {},
   "outputs": [],
   "source": [
    "\n",
    "# Function to fetch gene product label\n",
    "def fetch_gene_product(accession, start, end):\n",
    "    try:\n",
    "        # Fetch sequence data from NCBI\n",
    "        handle = Entrez.efetch(db=\"nuccore\", id=accession, seq_start=start, seq_stop=end, rettype=\"gb\", retmode=\"text\")\n",
    "        record = SeqIO.read(handle, \"genbank\")\n",
    "        handle.close()\n",
    "\n",
    "        # Search for the CDS feature in the given region\n",
    "        for feature in record.features:\n",
    "            if feature.type == \"CDS\" and feature.location.start.position <= start <= feature.location.end.position:\n",
    "                return feature.qualifiers.get('product', ['Unknown'])[0]\n",
    "    except Exception as e:\n",
    "        return f\"Error: {str(e)}\"\n",
    "    \n",
    "    return \"No matching CDS\"\n"
   ]
  },
  {
   "cell_type": "code",
   "execution_count": 12,
   "id": "1e1f7676-1af7-4bdd-93a9-76baa765ee8c",
   "metadata": {},
   "outputs": [],
   "source": [
    "\n",
    "# Read the CSV file\n",
    "input_file = \"./Data/Alignment-HitTable AY insertions.csv\"  # Replace with your input file name\n",
    "output_file = \"output.csv\"  # Name of the output file\n",
    "df = pd.read_csv(input_file)\n",
    "#df = pd.read_csv(input_file).head(5)  # Limit to the first 5 rows\n"
   ]
  },
  {
   "cell_type": "code",
   "execution_count": 13,
   "id": "6b968433-2b41-403f-8ca5-401add4e8291",
   "metadata": {},
   "outputs": [
    {
     "name": "stdout",
     "output_type": "stream",
     "text": [
      "CDS products exported to output.csv\n"
     ]
    }
   ],
   "source": [
    "# Create a new column for CDS product names\n",
    "df['cds_product'] = df.apply(lambda row: fetch_gene_product(row['accession'], row['start'], row['end']), axis=1)\n",
    "\n",
    "# Export the results to a new CSV file\n",
    "df[['accession', 'start', 'end', 'cds_product']].to_csv(output_file, index=False)\n",
    "print(f\"CDS products exported to {output_file}\")"
   ]
  },
  {
   "cell_type": "code",
   "execution_count": null,
   "id": "6ff427bc-f6c2-4e2b-b135-4fc92b5bb778",
   "metadata": {},
   "outputs": [],
   "source": []
  }
 ],
 "metadata": {
  "kernelspec": {
   "display_name": "Python 3 (ipykernel)",
   "language": "python",
   "name": "python3"
  },
  "language_info": {
   "codemirror_mode": {
    "name": "ipython",
    "version": 3
   },
   "file_extension": ".py",
   "mimetype": "text/x-python",
   "name": "python",
   "nbconvert_exporter": "python",
   "pygments_lexer": "ipython3",
   "version": "3.12.5"
  }
 },
 "nbformat": 4,
 "nbformat_minor": 5
}
